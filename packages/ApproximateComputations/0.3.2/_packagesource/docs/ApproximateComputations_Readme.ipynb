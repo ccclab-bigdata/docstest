{
 "cells": [
  {
   "outputs": [],
   "cell_type": "markdown",
   "source": [
    "# Installation"
   ],
   "metadata": {}
  },
  {
   "outputs": [],
   "cell_type": "markdown",
   "source": [
    "Installing the package is trivial as it is registered as a Julia package."
   ],
   "metadata": {}
  },
  {
   "outputs": [],
   "cell_type": "code",
   "source": [
    "using Pkg\n",
    "Pkg.add(\"ApproximateComputations\")\n",
    "Pkg.update()"
   ],
   "metadata": {},
   "execution_count": null
  },
  {
   "outputs": [],
   "cell_type": "markdown",
   "source": [
    "To include the library in our project we add it with `using`"
   ],
   "metadata": {}
  },
  {
   "outputs": [],
   "cell_type": "code",
   "source": [
    "using ApproximateComputations"
   ],
   "metadata": {},
   "execution_count": null
  },
  {
   "outputs": [],
   "cell_type": "markdown",
   "source": [
    "# Approximation Type"
   ],
   "metadata": {}
  },
  {
   "outputs": [],
   "cell_type": "markdown",
   "source": [
    "The `Approximation` type is a wrapper parent type to be used to enclose data which has been returned\n",
    "from a non-accurate source. This type can be extended to enclose extra information for debugging or\n",
    "improving a program by allowing more complex functional behaviour based on type and level of\n",
    "approximation"
   ],
   "metadata": {}
  },
  {
   "outputs": [],
   "cell_type": "markdown",
   "source": [
    "Constructing an `Approximation` is trival"
   ],
   "metadata": {}
  },
  {
   "outputs": [],
   "cell_type": "code",
   "source": [
    "param = 5.0\n",
    "approx_param = Approximation(param)"
   ],
   "metadata": {},
   "execution_count": null
  },
  {
   "outputs": [],
   "cell_type": "markdown",
   "source": [
    "The value stored in `approx_param` is the same as param, it is simply wrapped to allow for specialised\n",
    "behaviour. To extract the value and check this we use `Get(x)`"
   ],
   "metadata": {}
  },
  {
   "outputs": [],
   "cell_type": "code",
   "source": [
    "contained_value = Get(approx_param)"
   ],
   "metadata": {},
   "execution_count": null
  },
  {
   "outputs": [],
   "cell_type": "markdown",
   "source": [
    "# Approximate Fit Functions"
   ],
   "metadata": {}
  },
  {
   "outputs": [],
   "cell_type": "markdown",
   "source": [
    "1) Generate new functions which approximate 'sin' in the range 0.001 to pi/2\n",
    "with 5000 samples set with the `sampleCount` option and a request for a table of the results with\n",
    "the `retDataFrame` option."
   ],
   "metadata": {}
  },
  {
   "outputs": [],
   "cell_type": "code",
   "source": [
    "using ApproximateComputations\n",
    "newFunctionsAndInformation, tableOfResults = GenerateAllApproximationFunctions(sin, 0.001, 1.57, sampleCount=5000, retDataFrame=true);"
   ],
   "metadata": {},
   "execution_count": null
  },
  {
   "outputs": [],
   "cell_type": "markdown",
   "source": [
    "When we display the results you will see the different precision, order and methods of generation.\n",
    "By default only a limited set are used. If you look into the documentation you will see the flags\n",
    "for different types of curve generation."
   ],
   "metadata": {}
  },
  {
   "outputs": [],
   "cell_type": "code",
   "source": [
    "tableOfResults"
   ],
   "metadata": {},
   "execution_count": null
  },
  {
   "outputs": [],
   "cell_type": "markdown",
   "source": [
    "2) Filter the generated functions to select the fastest executing function within our error constraint:"
   ],
   "metadata": {}
  },
  {
   "outputs": [],
   "cell_type": "code",
   "source": [
    "a = GetFastestAcceptable(newFunctionsAndInformation, meanErrorLimit=0.00000001)\n",
    "println(GetFunctionName(a))  # -> returns sin_PolyLet9_Float64bit"
   ],
   "metadata": {},
   "execution_count": null
  },
  {
   "outputs": [],
   "cell_type": "markdown",
   "source": [
    "3) Store the function for use:"
   ],
   "metadata": {}
  },
  {
   "outputs": [],
   "cell_type": "code",
   "source": [
    "approxsin = a.generatedFunction"
   ],
   "metadata": {},
   "execution_count": null
  },
  {
   "outputs": [],
   "cell_type": "markdown",
   "source": [
    "4) Compare to accurate function:"
   ],
   "metadata": {}
  },
  {
   "outputs": [],
   "cell_type": "code",
   "source": [
    "approxResult = approxsin(1.0) # -> Approximation{Float64}(0.8414709848311571)\n",
    "realResult = sin(1.0)   # -> {Float64} (0.8414709848078965)"
   ],
   "metadata": {},
   "execution_count": null
  },
  {
   "outputs": [],
   "cell_type": "markdown",
   "source": [
    "You will notice that the returned type of the generated function is of the `Approximation{T}` type.\n",
    "this is to ensure that any use of these functions in an application is with explicit understanding\n",
    "of the programmer when they extract the value to put it back into \"non-approximate\"-space."
   ],
   "metadata": {}
  },
  {
   "outputs": [],
   "cell_type": "markdown",
   "source": [
    "# Approximate Memoisation\n",
    "In this package we provide wrapper functions to allow the implementation of approximate memoisation\n",
    "using either trending batched memoisation or approximate hashing memoisation"
   ],
   "metadata": {}
  },
  {
   "outputs": [],
   "cell_type": "markdown",
   "source": [
    "Memoisation is a common technique to store the return the values of an expensive\n",
    "function so that multiple calls do not result in multiple expensive runs of the function.\n",
    "Memoisation can be ineffecient for numerical applications with slight variations of input\n",
    "where each input will result a different value being saved even when they are nearly identical.\n",
    "In an application which is error resilient this is wasted memory as a single value could be\n",
    "stored for all inputs which are close or result in a similar answer."
   ],
   "metadata": {}
  },
  {
   "outputs": [],
   "cell_type": "markdown",
   "source": [
    "As most memoisation is based on a hashtable we are able to construct an approximate memoisation\n",
    "by allowing for the custom of custom hash functions which result in clashes when any two inputs\n",
    "are similar enough to be within our error threshold."
   ],
   "metadata": {}
  },
  {
   "outputs": [],
   "cell_type": "markdown",
   "source": [
    "With this setup, a hash function which causes a clash for any input values in 0.05 unit steps\n",
    "can be used to quantise the memoisation and therefore allow for arbitrary precision. A more\n",
    "complex hash function that allows for mapping based on the first differential of the function\n",
    "being memoised can give scaled memoisation boundaries based on the maximum value change across\n",
    "an input range - allowing for optimal storage within your acceptable error range."
   ],
   "metadata": {}
  },
  {
   "outputs": [],
   "cell_type": "markdown",
   "source": [
    "To do the simple form of this with our tools we define our hash function and storage object:"
   ],
   "metadata": {}
  },
  {
   "outputs": [],
   "cell_type": "code",
   "source": [
    "sinhash(fn, val) = hash(val)\n",
    "memoDict = Dict()"
   ],
   "metadata": {},
   "execution_count": null
  },
  {
   "outputs": [],
   "cell_type": "markdown",
   "source": [
    "Then we call the custom hash memoisation function with our targetfunction, storage object and hash\n",
    "function followed by our inputs to the function."
   ],
   "metadata": {}
  },
  {
   "outputs": [],
   "cell_type": "code",
   "source": [
    "println(ApproximateHashingMemoise(sin, memoDict, sinhash, 0.4))\n",
    "println(ApproximateHashingMemoise(sin, memoDict, sinhash, 0.1))"
   ],
   "metadata": {},
   "execution_count": null
  },
  {
   "outputs": [],
   "cell_type": "markdown",
   "source": [
    "The returned value of the function will either be the actual value of calling that function with\n",
    "the inputs, or if a value is found in the storage object for the hash of the function and input\n",
    "then the stored value will be returned. Nice and simple!"
   ],
   "metadata": {}
  },
  {
   "outputs": [],
   "cell_type": "markdown",
   "source": [
    "The weakness of this type of quantised memoisation is that the first value passed to it for any\n",
    "given quantisation range will represent the whole range. In some cases where there is a non-uniform\n",
    "access pattern for each quantisation range a value that is outside the commonly accessed part might\n",
    "be less representative than others."
   ],
   "metadata": {}
  },
  {
   "outputs": [],
   "cell_type": "markdown",
   "source": [
    "To combat this problem we can also use a trending memoisation approach. In this approach every\n",
    "time a quantised range is accessed the result is added to a record and once the requisite number\n",
    "of samples has been taken the returned value when a hit is found is the average of all the results\n",
    "for that quantisation range."
   ],
   "metadata": {}
  },
  {
   "outputs": [],
   "cell_type": "markdown",
   "source": [
    "The call to do this is very similiar with the addition of a `samplecount` input variable and we use\n",
    "a more complex storage object to enable the counting of samples for each element. In the demo below\n",
    "we use a sample count of `3`:"
   ],
   "metadata": {}
  },
  {
   "outputs": [],
   "cell_type": "code",
   "source": [
    "trendingArray = []\n",
    "for i in 1:5000\n",
    "   push!(trendingArray,[0,0.0,0.0])\n",
    "end\n",
    "\n",
    "trendingsinhash(fn, val) = 1+Int64.(round(val*10.0))\n",
    "\n",
    "println(TrendingMemoisation(sin, trendingsinhash, trendingArray, 3, 0.5)  == 0.479425538604203)\n",
    "println(TrendingMemoisation(sin, trendingsinhash, trendingArray, 3, 0.55) == 0.5226872289306592)\n",
    "println(TrendingMemoisation(sin, trendingsinhash, trendingArray, 3, 0.51) == 0.48817724688290753)\n",
    "println(TrendingMemoisation(sin, trendingsinhash, trendingArray, 3, 0.59) == 0.5563610229127838)\n",
    "println(TrendingMemoisation(sin, trendingsinhash, trendingArray, 3, 0.59) == 0.5563610229127838)"
   ],
   "metadata": {},
   "execution_count": null
  },
  {
   "outputs": [],
   "cell_type": "markdown",
   "source": [
    "# Loop Perforation"
   ],
   "metadata": {}
  },
  {
   "outputs": [],
   "cell_type": "markdown",
   "source": [
    "Loop perforation is an approximation approach where loops are manipulated to reduce the iteration\n",
    "count in some way to improve the performance of an application without impacting the final result\n",
    "beyond a fixed constraint."
   ],
   "metadata": {}
  },
  {
   "outputs": [],
   "cell_type": "markdown",
   "source": [
    "This part of our library allows for the targeted replacement of loops parameters to achieve this in\n",
    "a generic way to arbitrary code."
   ],
   "metadata": {}
  },
  {
   "outputs": [],
   "cell_type": "markdown",
   "source": [
    "We perform this optimisation on Julia AST representations. As these cannot in the current release of\n",
    "Julia be directly extracted from a compiled function we require that the source is directly provided,\n",
    "like so:"
   ],
   "metadata": {}
  },
  {
   "outputs": [],
   "cell_type": "code",
   "source": [
    "expr =\tquote\n",
    "\t\t\t\tfunction newfunc()\n",
    "\t\t\t\t\taa = 0\n",
    "\t\t\t\t\tfor i in 1:10\n",
    "\t\t\t\t\t\taa = aa + 1\n",
    "\t\t\t\t\tend\n",
    "\t\t\t\t\taa\n",
    "\t\t\t\tend\n",
    "\t\t\tend"
   ],
   "metadata": {},
   "execution_count": null
  },
  {
   "outputs": [],
   "cell_type": "markdown",
   "source": [
    "This example is of a simple loop which will increment a variable based on a ranged loop. This example\n",
    "is being used as it is trivial to test if the loop replacement has been a success."
   ],
   "metadata": {}
  },
  {
   "outputs": [],
   "cell_type": "markdown",
   "source": [
    "With our function defined we pass it into the loop perforatation function:"
   ],
   "metadata": {}
  },
  {
   "outputs": [],
   "cell_type": "code",
   "source": [
    "LoopPerforation(expr, UnitRange, ClipFrontAndBack)"
   ],
   "metadata": {},
   "execution_count": null
  },
  {
   "outputs": [],
   "cell_type": "markdown",
   "source": [
    "The function takes three inputs. The source code that is to be manipulated, the type of loop to\n",
    "target (in this case a loop which uses a UnitRange, others are supported and can be trivially\n",
    "extended to match any pattern), and a function which will output the replacement parameters.\n",
    "The result of calling this function is that the input source code is changed in place."
   ],
   "metadata": {}
  },
  {
   "outputs": [],
   "cell_type": "markdown",
   "source": [
    "For our demo here we are passing in the source code, `UnitRange` as we are looking to replace the\n",
    "`1:10` loop parameter which is a `UnitRange` and the included function `ClipFrontAndBack` which\n",
    "takes the UnitRange and increments the minimum value and decrements the maximum value, resulting\n",
    "in the range `2:8`."
   ],
   "metadata": {}
  },
  {
   "outputs": [],
   "cell_type": "markdown",
   "source": [
    "Once this has been called and has succeeded we can extract the function for use by evaluating the\n",
    "Julia Expressions:"
   ],
   "metadata": {}
  },
  {
   "outputs": [],
   "cell_type": "code",
   "source": [
    "eval(expr)"
   ],
   "metadata": {},
   "execution_count": null
  },
  {
   "outputs": [],
   "cell_type": "markdown",
   "source": [
    "We can test to see if the output is what we expect"
   ],
   "metadata": {}
  },
  {
   "outputs": [],
   "cell_type": "code",
   "source": [
    "println(newfunc() == 8)"
   ],
   "metadata": {},
   "execution_count": null
  },
  {
   "outputs": [],
   "cell_type": "markdown",
   "source": [
    "# AST Generation and Analysis"
   ],
   "metadata": {}
  },
  {
   "outputs": [],
   "cell_type": "markdown",
   "source": [
    "ASTs in this library are formed through trees of `TreeMember` derived types. A `TreeMember` branch can be either\n",
    "an `Operator` or a `Variable` - leaves can be any type as they are only inputs into the other derived TreeMember\n",
    "types."
   ],
   "metadata": {}
  },
  {
   "outputs": [],
   "cell_type": "markdown",
   "source": [
    "When working with trees we do not define Operators explicitly - they are output from functions which take `Variables`\n",
    "as inputs. Like so:"
   ],
   "metadata": {}
  },
  {
   "outputs": [],
   "cell_type": "code",
   "source": [
    "DemoFunc(x) = x + x\n",
    "DemoTree = DemoFunc(Variable(:x))\n",
    "println(DemoTree)"
   ],
   "metadata": {},
   "execution_count": null
  },
  {
   "outputs": [],
   "cell_type": "markdown",
   "source": [
    "We can view these generated trees in a nicer form by using `printtree` - which also gives contextual information on\n",
    "the information stored within the `TreeMember` entries in the tree."
   ],
   "metadata": {}
  },
  {
   "outputs": [],
   "cell_type": "code",
   "source": [
    "printtree(DemoTree)"
   ],
   "metadata": {},
   "execution_count": null
  },
  {
   "outputs": [],
   "cell_type": "markdown",
   "source": [
    "We can also view the tree with less information using `ToString`"
   ],
   "metadata": {}
  },
  {
   "outputs": [],
   "cell_type": "code",
   "source": [
    "println(ToString(DemoTree))"
   ],
   "metadata": {},
   "execution_count": null
  },
  {
   "outputs": [],
   "cell_type": "markdown",
   "source": [
    "We are able to have trees with constants in them, which are not `TreeMember` types"
   ],
   "metadata": {}
  },
  {
   "outputs": [],
   "cell_type": "code",
   "source": [
    "DemoFunc(x) = x + 1.0\n",
    "DemoTree = DemoFunc(Variable(:x))\n",
    "println(\"Tree with constant:\")\n",
    "println(DemoTree)\n",
    "printtree(DemoTree)"
   ],
   "metadata": {},
   "execution_count": null
  },
  {
   "outputs": [],
   "cell_type": "markdown",
   "source": [
    "In our output, the constant values are labelled. When performing some transforms it is useful to have these contained\n",
    "within a `Variable` type. To do this we use the function `ReplaceConstantsWithVariables(tree)`"
   ],
   "metadata": {}
  },
  {
   "outputs": [],
   "cell_type": "code",
   "source": [
    "println(\"Tree with constant changed to a Variable type:\")\n",
    "ReplaceConstantsWithVariables(DemoTree)\n",
    "printtree(DemoTree)"
   ],
   "metadata": {},
   "execution_count": null
  },
  {
   "outputs": [],
   "cell_type": "markdown",
   "source": [
    "This transform does not change how the function can be executed or the result. We can test this by running our tree.\n",
    "Trees are executed by evaluation using `EmulateTree(t, DictInputs=())`"
   ],
   "metadata": {}
  },
  {
   "outputs": [],
   "cell_type": "code",
   "source": [
    "@show input=1.0\n",
    "print( \"Original Result: \")\n",
    "println( DemoFunc(input) )\n",
    "print( \"Altered Tree Result: \")\n",
    "println( EmulateTree(DemoTree, Dict(:x=>input)))"
   ],
   "metadata": {},
   "execution_count": null
  },
  {
   "outputs": [],
   "cell_type": "markdown",
   "source": [
    "When emulating a tree we need to pass the inputs in as a dictionary for each symbol, or we can define the symbols\n",
    "globally using `SetSymbolValue(symbol, value)` and we can clear all set variables with `ClearSymbolDict()`"
   ],
   "metadata": {}
  },
  {
   "outputs": [],
   "cell_type": "code",
   "source": [
    "@show input=2.0\n",
    "SetSymbolValue(:x, input)\n",
    "print( \"Original Result: \")\n",
    "println( DemoFunc(input) )\n",
    "print( \"Altered Tree Result: \")\n",
    "println( EmulateTree(DemoTree) )\n",
    "ClearSymbolDict()"
   ],
   "metadata": {},
   "execution_count": null
  },
  {
   "outputs": [],
   "cell_type": "markdown",
   "source": [
    "When we want to create a tree from more complex functions we need to anable the environment to be able to map any\n",
    "internal function calls to our AST inputs types."
   ],
   "metadata": {}
  },
  {
   "outputs": [],
   "cell_type": "code",
   "source": [
    "ComplexFunction(x) = sqrt(x)\n",
    "\n",
    "try\n",
    "   ComplexTree = ComplexFunction(Variable(:x))\n",
    "catch\n",
    "   println(\"We were unable to create an AST from ComplexFunction as `sqrt` is not defined to take a Variable as an input.\")\n",
    "end"
   ],
   "metadata": {},
   "execution_count": null
  },
  {
   "outputs": [],
   "cell_type": "markdown",
   "source": [
    "To be able to create the tree we need to detect all the function calls within the submitted function and override them.\n",
    "In Julia we cannot override a function unless it has been imported. As we cannot import functions when not at the global\n",
    "scope we have provided the macro `@importall' which will import all functions from a module automatically so that we can\n",
    "override them with our AST creation types."
   ],
   "metadata": {}
  },
  {
   "outputs": [],
   "cell_type": "code",
   "source": [
    "using ImportAll\n",
    "@importall Base\n",
    "\n",
    "println(\"Generating override functions: \")\n",
    "ovr = GetOverrides(ComplexFunction)\n",
    "eval(GetConstructionFunction())(ovr, verbose=true)\n",
    "println(\"Done!\")"
   ],
   "metadata": {},
   "execution_count": null
  },
  {
   "outputs": [],
   "cell_type": "markdown",
   "source": [
    "With the environment configured we can not generate the tree for `ComplexFunction` without error."
   ],
   "metadata": {}
  },
  {
   "outputs": [],
   "cell_type": "code",
   "source": [
    "println(\"We can now generate the tree for ComplexFunction:\")\n",
    "ComplexTree = ComplexFunction(Variable(:x))\n",
    "printtree(ComplexTree)"
   ],
   "metadata": {},
   "execution_count": null
  },
  {
   "outputs": [],
   "cell_type": "markdown",
   "source": [
    "Once we are done with global variables we can clear them using `ClearSymbolDict()`"
   ],
   "metadata": {}
  },
  {
   "outputs": [],
   "cell_type": "code",
   "source": [
    "println(\"Clearing symbol dictionary:\")\n",
    "ClearSymbolDict()"
   ],
   "metadata": {},
   "execution_count": null
  },
  {
   "outputs": [],
   "cell_type": "markdown",
   "source": [
    "When we generate a tree each node is given a unique ID so that is can be easily targeted.\n",
    "The current GlobalID index can be retrieved with `GetGlobalID()` and reset with `ResetGlobalID()`"
   ],
   "metadata": {}
  },
  {
   "outputs": [],
   "cell_type": "code",
   "source": [
    "println(\"Current Global ID index is: $(GetGlobalID())\")\n",
    "ResetGlobalID()\n",
    "println(\"Current Global ID index is: $(GetGlobalID())\")"
   ],
   "metadata": {},
   "execution_count": null
  },
  {
   "outputs": [],
   "cell_type": "markdown",
   "source": [
    "To be able to analyse trees we have provided methods to be able to extract information.\n",
    "We will create an analysis function here to be our test object."
   ],
   "metadata": {}
  },
  {
   "outputs": [],
   "cell_type": "code",
   "source": [
    "AnalysisFunction(x,y) = sqrt( (10.0 * x) + (5 * y * x * x) )\n",
    "ovr = GetOverrides(AnalysisFunction)\n",
    "eval(GetConstructionFunction())(ovr, verbose=true)\n",
    "AnalysisTree = AnalysisFunction(Variable(:x), Variable(:y))\n",
    "ReplaceConstantsWithVariables(AnalysisTree)"
   ],
   "metadata": {},
   "execution_count": null
  },
  {
   "outputs": [],
   "cell_type": "markdown",
   "source": [
    "First to get all the leaf nodes in the tree:"
   ],
   "metadata": {}
  },
  {
   "outputs": [],
   "cell_type": "code",
   "source": [
    "println(\"Show the initial state of the tree:\")\n",
    "println(ToString(AnalysisTree))"
   ],
   "metadata": {},
   "execution_count": null
  },
  {
   "outputs": [],
   "cell_type": "markdown",
   "source": [
    "Showing the leaves in our tree:"
   ],
   "metadata": {}
  },
  {
   "outputs": [],
   "cell_type": "code",
   "source": [
    "println(\"All Leaves:\")\n",
    "println(GetAllLeaves(AnalysisTree))"
   ],
   "metadata": {},
   "execution_count": null
  },
  {
   "outputs": [],
   "cell_type": "markdown",
   "source": [
    "Showing the symbols being used in our tree:"
   ],
   "metadata": {}
  },
  {
   "outputs": [],
   "cell_type": "code",
   "source": [
    "println(\"All Symbols:\")\n",
    "println(GetAllSymbols(AnalysisTree))"
   ],
   "metadata": {},
   "execution_count": null
  },
  {
   "outputs": [],
   "cell_type": "markdown",
   "source": [
    "Getting all the operators in this tree"
   ],
   "metadata": {}
  },
  {
   "outputs": [],
   "cell_type": "code",
   "source": [
    "println(\"All Operators:\")\n",
    "println(GetOperators(AnalysisTree))"
   ],
   "metadata": {},
   "execution_count": null
  },
  {
   "outputs": [],
   "cell_type": "markdown",
   "source": [
    "We also provide a function to extract just the IDs of each operator."
   ],
   "metadata": {}
  },
  {
   "outputs": [],
   "cell_type": "code",
   "source": [
    "println(\"All Operators IDs:\")\n",
    "println(GetOperatorIDs(AnalysisTree))"
   ],
   "metadata": {},
   "execution_count": null
  },
  {
   "outputs": [],
   "cell_type": "markdown",
   "source": [
    "Get all subtrees:"
   ],
   "metadata": {}
  },
  {
   "outputs": [],
   "cell_type": "code",
   "source": [
    "println(\"Showing one of the subtrees:\")\n",
    "println(ToString(GetAllTrees(AnalysisTree)[3]))"
   ],
   "metadata": {},
   "execution_count": null
  },
  {
   "outputs": [],
   "cell_type": "markdown",
   "source": [
    "We can extract a specific branch by ID"
   ],
   "metadata": {}
  },
  {
   "outputs": [],
   "cell_type": "code",
   "source": [
    "println(\"Extracting a specific subtree:\")\n",
    "println(ToString(GetSubTree(AnalysisTree, 6)))"
   ],
   "metadata": {},
   "execution_count": null
  },
  {
   "outputs": [],
   "cell_type": "markdown",
   "source": [
    "If we want to edit the tree we can do replacement on any node."
   ],
   "metadata": {}
  },
  {
   "outputs": [],
   "cell_type": "markdown",
   "source": [
    "Here we will replace the multiply by `5.0` at ID=11 to a multiply by `24.5`"
   ],
   "metadata": {}
  },
  {
   "outputs": [],
   "cell_type": "code",
   "source": [
    "println(\"Changing the value of Variable with ID=11 from 5.0 to 24.5\")\n",
    "ReplaceSubTree(AnalysisTree, Variable(24.5) ,11)"
   ],
   "metadata": {},
   "execution_count": null
  },
  {
   "outputs": [],
   "cell_type": "markdown",
   "source": [
    "And here is the result.\n",
    "We can see that it has replaced the `Variable` with ID 11 with the new `Variable` we created which has the ID 12"
   ],
   "metadata": {}
  },
  {
   "outputs": [],
   "cell_type": "code",
   "source": [
    "println(ToString(AnalysisTree))"
   ],
   "metadata": {},
   "execution_count": null
  },
  {
   "outputs": [],
   "cell_type": "markdown",
   "source": [
    "We can also transform any variable into a different type. So lets change the `Variable` we have just inserted from\n",
    "a Float64 to a Float32"
   ],
   "metadata": {}
  },
  {
   "outputs": [],
   "cell_type": "code",
   "source": [
    "println(\"Changing the type of Variable with ID=12 from Float64 to Float32\")\n",
    "ReplaceTypeOfSpecifiedVariable(AnalysisTree, 12, Float32)\n",
    "println(ToString(AnalysisTree))"
   ],
   "metadata": {},
   "execution_count": null
  },
  {
   "outputs": [],
   "cell_type": "markdown",
   "source": [
    "That worked - but what if we wanted to change all `Variable`'s of one type to another? We use\n",
    " `ReplaceAllVariablesOfType(tree, targettype, replacementtype)`. This will go through and replace all entries of one type\n",
    "with another. This step will replace the last Float64 with a Float32 of the same value."
   ],
   "metadata": {}
  },
  {
   "outputs": [],
   "cell_type": "code",
   "source": [
    "println(\"Changing the type of all Float64 variables to Float32\")\n",
    "ReplaceAllVariablesOfType(AnalysisTree, Float64, Float32)\n",
    "println(ToString(AnalysisTree))"
   ],
   "metadata": {},
   "execution_count": null
  },
  {
   "outputs": [],
   "cell_type": "markdown",
   "source": [
    "In the above example you may have noticed that the type of the symbol `x` is ambiguous. This is due to it being dependent\n",
    "on what value you assign to the symbol. If you want it to be a Float32 then pass a Float32 to the function when it is called."
   ],
   "metadata": {}
  },
  {
   "outputs": [],
   "cell_type": "markdown",
   "source": [
    "When we have finished making changes to the AST we may want to be able to convert it back to a normal Julia function, we can\n",
    "do that with `TreeToFunction`"
   ],
   "metadata": {}
  },
  {
   "outputs": [],
   "cell_type": "code",
   "source": [
    "func = TreeToFunction(AnalysisTree, :OutputFunction)\n",
    "print( \"Tree Result: \")\n",
    "println( EmulateTree(AnalysisTree, Dict(:x=>1.0, :y=>2.0)) )\n",
    "print( \"Generated Function Result: \")\n",
    "println( func(1.0, 2.0) )\n",
    "println(\"Name of function: $(func)\")"
   ],
   "metadata": {},
   "execution_count": null
  },
  {
   "outputs": [],
   "cell_type": "markdown",
   "source": [
    "To help in analysing error between similar functions we provide the functions\n",
    "`TreeComparison` and `PrintTreeComparisonError` to compute the difference in results"
   ],
   "metadata": {}
  },
  {
   "outputs": [],
   "cell_type": "markdown",
   "source": [
    "To show this we will create an arbitrary function `ErrorTestingFunction` which does a few operations"
   ],
   "metadata": {}
  },
  {
   "outputs": [],
   "cell_type": "code",
   "source": [
    "ErrorTestingFunction(x) = ((100.0/x) * x) + (0.0001 * x) * (10.00004 / x)\n",
    "HighPrecisionTestingTree = ErrorTestingFunction(Variable(:x))"
   ],
   "metadata": {},
   "execution_count": null
  },
  {
   "outputs": [],
   "cell_type": "markdown",
   "source": [
    "We will then make a copy of it and reduce the precision to inject some error into the function"
   ],
   "metadata": {}
  },
  {
   "outputs": [],
   "cell_type": "code",
   "source": [
    "LowPrecisionTestingTree = deepcopy(HighPrecisionTestingTree)\n",
    "ReplaceAllVariablesOfType(LowPrecisionTestingTree, Float64, Float32)\n",
    "printtree(LowPrecisionTestingTree)"
   ],
   "metadata": {},
   "execution_count": null
  },
  {
   "outputs": [],
   "cell_type": "markdown",
   "source": [
    "We will then generate some input values between `0.01` and `1.0` to use as inputs of the correct type"
   ],
   "metadata": {}
  },
  {
   "outputs": [],
   "cell_type": "code",
   "source": [
    "HighPrecTestData = collect(0.01:0.001:1.0)\n",
    "LowPrecTestData = Float32.(HighPrecTestData)"
   ],
   "metadata": {},
   "execution_count": null
  },
  {
   "outputs": [],
   "cell_type": "markdown",
   "source": [
    "As testing this function needs to specify which symbol needs to be given a value for input\n",
    "we need to extend our inputs to include which symbol input value they are representing."
   ],
   "metadata": {}
  },
  {
   "outputs": [],
   "cell_type": "code",
   "source": [
    "HighPrecisionComparisonInput = []\n",
    "LowPrecisionComparisonInput  = []\n",
    "for i in 1:length(HighPrecTestData)\n",
    "    push!(HighPrecisionComparisonInput,(:x, HighPrecTestData[i]))\n",
    "    push!(LowPrecisionComparisonInput,(:x, LowPrecTestData[i]))\n",
    "end"
   ],
   "metadata": {},
   "execution_count": null
  },
  {
   "outputs": [],
   "cell_type": "markdown",
   "source": [
    "We then pass the high and low precision trees and inputs to `TreeComparison` to get the\n",
    "error data which we can print with `PrintTreeComparisonError`. This will give the overall\n",
    "error output of the function and compare the two."
   ],
   "metadata": {}
  },
  {
   "outputs": [],
   "cell_type": "code",
   "source": [
    "compResults = TreeComparison(HighPrecisionTestingTree, LowPrecisionTestingTree, HighPrecisionComparisonInput, LowPrecisionComparisonInput)\n",
    "PrintTreeComparisonError(compResults)"
   ],
   "metadata": {},
   "execution_count": null
  },
  {
   "outputs": [],
   "cell_type": "markdown",
   "source": [
    "When we have similar tree we want to determine the different in error at each node for each input.\n",
    "For this we use `GetErrorInTree`. This will output a new tree with the average error at each node stored\n",
    "and optionally with the `fetchtimeline` flag it will also return an array of the error for each input at\n",
    "each node."
   ],
   "metadata": {}
  },
  {
   "outputs": [],
   "cell_type": "code",
   "source": [
    "resultsTree, perinputresults = GetErrorInTree(HighPrecisionTestingTree, LowPrecisionTestingTree, :x, HighPrecTestData, LowPrecTestData, fetchtimeline=true)\n",
    "printtree(resultsTree)"
   ],
   "metadata": {},
   "execution_count": null
  },
  {
   "outputs": [],
   "cell_type": "markdown",
   "source": [
    "These errors per node can then be graphed with `PlotASTError` to give a clear idea of where error is introduced into the program for\n",
    "each input by displaying the error for each input for each subtree."
   ],
   "metadata": {}
  },
  {
   "outputs": [],
   "cell_type": "code",
   "source": [
    "PlotASTError(resultsTree, perinputresults, HighPrecTestData, (768,512))"
   ],
   "metadata": {},
   "execution_count": null
  },
  {
   "outputs": [],
   "cell_type": "markdown",
   "source": [
    "*This notebook was generated using [Literate.jl](https://github.com/fredrikekre/Literate.jl).*"
   ],
   "metadata": {}
  }
 ],
 "nbformat_minor": 3,
 "metadata": {
  "language_info": {
   "file_extension": ".jl",
   "mimetype": "application/julia",
   "name": "julia",
   "version": "1.1.0"
  },
  "kernelspec": {
   "name": "julia-1.1",
   "display_name": "Julia 1.1.0",
   "language": "julia"
  }
 },
 "nbformat": 4
}
